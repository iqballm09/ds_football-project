{
    "metadata": {
        "kernelspec": {
            "name": "python3",
            "display_name": "Python 3 (ipykernel)",
            "language": "python"
        },
        "language_info": {
            "name": "python",
            "version": "3.9.7",
            "mimetype": "text/x-python",
            "codemirror_mode": {
                "name": "ipython",
                "version": 3
            },
            "pygments_lexer": "ipython3",
            "nbconvert_exporter": "python",
            "file_extension": ".py"
        }
    },
    "nbformat_minor": 2,
    "nbformat": 4,
    "cells": [
        {
            "cell_type": "markdown",
            "source": [
                "## **Exploratory Data Analysis (EDA)**"
            ],
            "metadata": {
                "azdata_cell_guid": "6082a27b-cef9-479c-b3d6-3c56b0452c82"
            },
            "attachments": {}
        },
        {
            "cell_type": "code",
            "source": [
                "# Import libraries\n",
                "import pandas as pd\n",
                "import matplotlib.pyplot as plt"
            ],
            "metadata": {
                "azdata_cell_guid": "b0467adc-9fba-4d6e-9170-0b15f34853ba",
                "language": "python"
            },
            "outputs": [],
            "execution_count": 1
        },
        {
            "cell_type": "code",
            "source": [
                "# Import datasets\n",
                "df = pd.read_csv(\"halftime_finalstats.csv\")\n",
                "df.head()"
            ],
            "metadata": {
                "language": "python",
                "azdata_cell_guid": "e771f534-1475-4fc4-ab6b-0d68168e128a"
            },
            "outputs": [
                {
                    "data": {
                        "text/plain": "  half-time_score ball_possession goal_attempts shots_on_goal shots_off_goal  \\\n0           1 - 0         69 - 31        13 - 3         4 - 1          4 - 2   \n1           2 - 0         70 - 30         6 - 2         3 - 0          1 - 1   \n2           0 - 2         50 - 50        7 - 11         2 - 3          5 - 3   \n3           2 - 2         51 - 49         7 - 6         5 - 3          1 - 3   \n4           1 - 0         33 - 67         6 - 4         4 - 2          2 - 0   \n\n  dangerous_attacks blocked_shots corner_kicks  fouls yellow_cards red_cards  \\\n0            31 - 7         5 - 0        6 - 2  0 - 5          NaN       NaN   \n1             6 - 5         2 - 1        2 - 0  2 - 1          NaN       NaN   \n2           14 - 20         0 - 5        1 - 3  4 - 5        0 - 1       NaN   \n3            16 - 2         1 - 0        4 - 3  9 - 1          NaN       NaN   \n4             7 - 9         0 - 2        3 - 2  2 - 3          NaN       NaN   \n\n  total_passes completed_passes goalkeeper_saves throw-in offsides free_kicks  \\\n0    348 - 158        313 - 116            1 - 3      NaN    0 - 0      5 - 0   \n1    370 - 162        337 - 131            0 - 1      NaN    0 - 2      3 - 2   \n2    228 - 230        174 - 173            1 - 2      NaN    0 - 1      5 - 4   \n3    219 - 214        177 - 173            1 - 3      NaN    0 - 0      0 - 9   \n4    202 - 400        151 - 351            2 - 3      NaN    0 - 1      5 - 2   \n\n  tackles  attacks full-time_score  \n0  9 - 13  42 - 14           5 - 0  \n1   4 - 3  40 - 18           3 - 0  \n2  10 - 8  27 - 35           1 - 2  \n3   7 - 4  32 - 18           3 - 2  \n4   9 - 8  18 - 31           1 - 1  ",
                        "text/html": "<div>\n<style scoped>\n    .dataframe tbody tr th:only-of-type {\n        vertical-align: middle;\n    }\n\n    .dataframe tbody tr th {\n        vertical-align: top;\n    }\n\n    .dataframe thead th {\n        text-align: right;\n    }\n</style>\n<table border=\"1\" class=\"dataframe\">\n  <thead>\n    <tr style=\"text-align: right;\">\n      <th></th>\n      <th>half-time_score</th>\n      <th>ball_possession</th>\n      <th>goal_attempts</th>\n      <th>shots_on_goal</th>\n      <th>shots_off_goal</th>\n      <th>dangerous_attacks</th>\n      <th>blocked_shots</th>\n      <th>corner_kicks</th>\n      <th>fouls</th>\n      <th>yellow_cards</th>\n      <th>red_cards</th>\n      <th>total_passes</th>\n      <th>completed_passes</th>\n      <th>goalkeeper_saves</th>\n      <th>throw-in</th>\n      <th>offsides</th>\n      <th>free_kicks</th>\n      <th>tackles</th>\n      <th>attacks</th>\n      <th>full-time_score</th>\n    </tr>\n  </thead>\n  <tbody>\n    <tr>\n      <th>0</th>\n      <td>1 - 0</td>\n      <td>69 - 31</td>\n      <td>13 - 3</td>\n      <td>4 - 1</td>\n      <td>4 - 2</td>\n      <td>31 - 7</td>\n      <td>5 - 0</td>\n      <td>6 - 2</td>\n      <td>0 - 5</td>\n      <td>NaN</td>\n      <td>NaN</td>\n      <td>348 - 158</td>\n      <td>313 - 116</td>\n      <td>1 - 3</td>\n      <td>NaN</td>\n      <td>0 - 0</td>\n      <td>5 - 0</td>\n      <td>9 - 13</td>\n      <td>42 - 14</td>\n      <td>5 - 0</td>\n    </tr>\n    <tr>\n      <th>1</th>\n      <td>2 - 0</td>\n      <td>70 - 30</td>\n      <td>6 - 2</td>\n      <td>3 - 0</td>\n      <td>1 - 1</td>\n      <td>6 - 5</td>\n      <td>2 - 1</td>\n      <td>2 - 0</td>\n      <td>2 - 1</td>\n      <td>NaN</td>\n      <td>NaN</td>\n      <td>370 - 162</td>\n      <td>337 - 131</td>\n      <td>0 - 1</td>\n      <td>NaN</td>\n      <td>0 - 2</td>\n      <td>3 - 2</td>\n      <td>4 - 3</td>\n      <td>40 - 18</td>\n      <td>3 - 0</td>\n    </tr>\n    <tr>\n      <th>2</th>\n      <td>0 - 2</td>\n      <td>50 - 50</td>\n      <td>7 - 11</td>\n      <td>2 - 3</td>\n      <td>5 - 3</td>\n      <td>14 - 20</td>\n      <td>0 - 5</td>\n      <td>1 - 3</td>\n      <td>4 - 5</td>\n      <td>0 - 1</td>\n      <td>NaN</td>\n      <td>228 - 230</td>\n      <td>174 - 173</td>\n      <td>1 - 2</td>\n      <td>NaN</td>\n      <td>0 - 1</td>\n      <td>5 - 4</td>\n      <td>10 - 8</td>\n      <td>27 - 35</td>\n      <td>1 - 2</td>\n    </tr>\n    <tr>\n      <th>3</th>\n      <td>2 - 2</td>\n      <td>51 - 49</td>\n      <td>7 - 6</td>\n      <td>5 - 3</td>\n      <td>1 - 3</td>\n      <td>16 - 2</td>\n      <td>1 - 0</td>\n      <td>4 - 3</td>\n      <td>9 - 1</td>\n      <td>NaN</td>\n      <td>NaN</td>\n      <td>219 - 214</td>\n      <td>177 - 173</td>\n      <td>1 - 3</td>\n      <td>NaN</td>\n      <td>0 - 0</td>\n      <td>0 - 9</td>\n      <td>7 - 4</td>\n      <td>32 - 18</td>\n      <td>3 - 2</td>\n    </tr>\n    <tr>\n      <th>4</th>\n      <td>1 - 0</td>\n      <td>33 - 67</td>\n      <td>6 - 4</td>\n      <td>4 - 2</td>\n      <td>2 - 0</td>\n      <td>7 - 9</td>\n      <td>0 - 2</td>\n      <td>3 - 2</td>\n      <td>2 - 3</td>\n      <td>NaN</td>\n      <td>NaN</td>\n      <td>202 - 400</td>\n      <td>151 - 351</td>\n      <td>2 - 3</td>\n      <td>NaN</td>\n      <td>0 - 1</td>\n      <td>5 - 2</td>\n      <td>9 - 8</td>\n      <td>18 - 31</td>\n      <td>1 - 1</td>\n    </tr>\n  </tbody>\n</table>\n</div>"
                    },
                    "metadata": {},
                    "execution_count": 2,
                    "output_type": "execute_result"
                }
            ],
            "execution_count": 2
        },
        {
            "cell_type": "code",
            "source": [
                "# Show size of data\n",
                "print(\"Dataframe consists of {} rows and {} columns.\".format(df.shape[0], df.shape[1]))"
            ],
            "metadata": {
                "language": "python",
                "azdata_cell_guid": "f2d5ee14-5e19-4553-99ff-32011e3eb738"
            },
            "outputs": [
                {
                    "name": "stdout",
                    "text": "Dataframe consists of 2137 rows and 20 columns.\n",
                    "output_type": "stream"
                }
            ],
            "execution_count": 3
        },
        {
            "cell_type": "code",
            "source": [
                "# "
            ],
            "metadata": {
                "language": "python",
                "azdata_cell_guid": "dea33ce3-cfe0-4b61-ba59-6cc235c00956"
            },
            "outputs": [],
            "execution_count": null
        },
        {
            "cell_type": "code",
            "source": [
                ""
            ],
            "metadata": {
                "language": "python",
                "azdata_cell_guid": "37e0236e-fa90-4b72-9029-853816ae32a3"
            },
            "outputs": [],
            "execution_count": null
        }
    ]
}